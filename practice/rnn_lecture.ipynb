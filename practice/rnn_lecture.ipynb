{
  "nbformat": 4,
  "nbformat_minor": 0,
  "metadata": {
    "colab": {
      "name": "rnn_lecture.ipynb",
      "provenance": [],
      "collapsed_sections": [],
      "authorship_tag": "ABX9TyMRb7SuEiBbF0E0GK0pdvPq",
      "include_colab_link": true
    },
    "kernelspec": {
      "name": "python3",
      "display_name": "Python 3"
    }
  },
  "cells": [
    {
      "cell_type": "markdown",
      "metadata": {
        "id": "view-in-github",
        "colab_type": "text"
      },
      "source": [
        "<a href=\"https://colab.research.google.com/github/4sunshine/dl-unn.github.io/blob/master/practice/rnn_lecture.ipynb\" target=\"_parent\"><img src=\"https://colab.research.google.com/assets/colab-badge.svg\" alt=\"Open In Colab\"/></a>"
      ]
    },
    {
      "cell_type": "code",
      "metadata": {
        "id": "L6_g4aUOrUVw"
      },
      "source": [
        "import tensorflow as tf\n",
        "import numpy as np\n",
        "from tensorflow.keras.layers import Input, SimpleRNN, Dense, TimeDistributed, Softmax, GRU\n",
        "from tensorflow.keras.models import Sequential"
      ],
      "execution_count": 1,
      "outputs": []
    },
    {
      "cell_type": "code",
      "metadata": {
        "id": "Emyvy8ZarW7-",
        "outputId": "f9c0fd27-e08b-4461-8abc-48fa3094691f",
        "colab": {
          "base_uri": "https://localhost:8080/",
          "height": 35
        }
      },
      "source": [
        "tf.random.set_seed(42)\n",
        "\n",
        "ALL_TEXTS = ['HELLO']\n",
        "\n",
        "vocab = sorted({char for word in ALL_TEXTS for char in word})\n",
        "print(vocab)\n",
        "\n",
        "id2char = {i: s for i, s in enumerate(vocab)}\n",
        "char2id = {s: i for i, s in enumerate(vocab)}\n",
        "\n",
        "def onehot(char):\n",
        "  return np.array([1 if char2id[char]==i else 0 for i in range(len(vocab))])\n",
        "  \n",
        "def text2hots(text):\n",
        "  return np.array([onehot(char) for char in text], dtype=np.float64)"
      ],
      "execution_count": 2,
      "outputs": [
        {
          "output_type": "stream",
          "text": [
            "['E', 'H', 'L', 'O']\n"
          ],
          "name": "stdout"
        }
      ]
    },
    {
      "cell_type": "code",
      "metadata": {
        "id": "j3KNJVus6Pqw"
      },
      "source": [
        "def build_model(vocab_size, hidden_size=3):\n",
        "  model = Sequential()\n",
        "  model.add(SimpleRNN(3, input_shape=(None, len(vocab)), return_sequences=True,\n",
        "                      use_bias=True,\n",
        "                      activation='tanh'))\n",
        "  model.add(Dense(vocab_size))\n",
        "  model.compile()\n",
        "  model.summary()\n",
        "  return model\n",
        "\n",
        "def generate_text(model, start_symbol):\n",
        "  text = start_symbol\n",
        "  model.reset_states()\n",
        "  hot = text2hots(start_symbol)\n",
        "  hot = np.expand_dims(hot, 0)\n",
        "  for _ in range(4):\n",
        "    prediction = model(hot)\n",
        "    prediction = tf.squeeze(prediction, 0)\n",
        "    predicted_id = tf.math.argmax(prediction, axis=-1).numpy()[0]\n",
        "    \n",
        "    predicted_symbol = id2char[predicted_id]\n",
        "    text += predicted_symbol\n",
        "    hot = text2hots(predicted_symbol)\n",
        "    hot = np.expand_dims(hot, 0)\n",
        "  return text\n",
        "\n",
        "@tf.function\n",
        "def train_step(model, opt, inp, target):\n",
        "    with tf.GradientTape() as tape:\n",
        "        predictions = model(inp)\n",
        "        loss = tf.reduce_mean(\n",
        "            tf.keras.losses.categorical_crossentropy(target,\n",
        "                                                     predictions,\n",
        "                                                     from_logits=True),\n",
        "                              axis=-1)\n",
        "        \n",
        "    grads = tape.gradient(loss, model.trainable_variables)\n",
        "    optimizer.apply_gradients(zip(grads, model.trainable_variables))\n",
        "    return loss"
      ],
      "execution_count": 3,
      "outputs": []
    },
    {
      "cell_type": "code",
      "metadata": {
        "id": "7hYg25U20GRA",
        "outputId": "f3a18a4a-172d-441a-e7a4-61254913cf71",
        "colab": {
          "base_uri": "https://localhost:8080/",
          "height": 1000
        }
      },
      "source": [
        "optimizer = tf.keras.optimizers.Adam(learning_rate=0.05)\n",
        "\n",
        "# OUR DATASET\n",
        "text_input = 'HELL'\n",
        "text_output = 'ELLO'\n",
        "\n",
        "model = build_model(len(vocab))\n",
        "\n",
        "for epoch in range(50):\n",
        "  model.reset_states()\n",
        "  \n",
        "  input = np.expand_dims(text2hots(text_input), 0)\n",
        "\n",
        "  target = np.expand_dims(text2hots(text_output), 0)\n",
        "\n",
        "  loss = train_step(model, optimizer, input, target)\n",
        "  if epoch % 2 == 0:\n",
        "    print(f'loss: {loss.numpy()}')\n",
        "    text = generate_text(model, 'H')\n",
        "    print(text)"
      ],
      "execution_count": 4,
      "outputs": [
        {
          "output_type": "stream",
          "text": [
            "Model: \"sequential\"\n",
            "_________________________________________________________________\n",
            "Layer (type)                 Output Shape              Param #   \n",
            "=================================================================\n",
            "simple_rnn (SimpleRNN)       (None, None, 3)           24        \n",
            "_________________________________________________________________\n",
            "dense (Dense)                (None, None, 4)           16        \n",
            "=================================================================\n",
            "Total params: 40\n",
            "Trainable params: 40\n",
            "Non-trainable params: 0\n",
            "_________________________________________________________________\n",
            "loss: [1.8906832]\n",
            "HLEEE\n",
            "loss: [1.4843457]\n",
            "HLELE\n",
            "loss: [1.2807729]\n",
            "HLLLL\n",
            "loss: [1.0895083]\n",
            "HLLLL\n",
            "loss: [0.9175042]\n",
            "HLOLO\n",
            "loss: [0.79906666]\n",
            "HLOLO\n",
            "loss: [0.69465196]\n",
            "HLOLO\n",
            "loss: [0.6000497]\n",
            "HLLLL\n",
            "loss: [0.51886374]\n",
            "HLLLL\n",
            "loss: [0.45230272]\n",
            "HELLL\n",
            "loss: [0.39407352]\n",
            "HELLL\n",
            "loss: [0.3351027]\n",
            "HELLL\n",
            "loss: [0.27923965]\n",
            "HELLL\n",
            "loss: [0.23096496]\n",
            "HELLL\n",
            "loss: [0.19076142]\n",
            "HELLL\n",
            "loss: [0.15795903]\n",
            "HELLL\n",
            "loss: [0.13147989]\n",
            "HELLL\n",
            "loss: [0.11020262]\n",
            "HELLL\n",
            "loss: [0.09313775]\n",
            "HELOE\n",
            "loss: [0.07945786]\n",
            "HELOE\n",
            "loss: [0.06847647]\n",
            "HELOE\n",
            "loss: [0.05962631]\n",
            "HELOE\n",
            "loss: [0.05244464]\n",
            "HELOE\n",
            "loss: [0.04656332]\n",
            "HELOE\n",
            "loss: [0.04169841]\n",
            "HELOE\n"
          ],
          "name": "stdout"
        }
      ]
    },
    {
      "cell_type": "code",
      "metadata": {
        "id": "W9hT3Ryb0rzW"
      },
      "source": [
        ""
      ],
      "execution_count": 4,
      "outputs": []
    }
  ]
}